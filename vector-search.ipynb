{
 "cells": [
  {
   "cell_type": "code",
   "id": "initial_id",
   "metadata": {
    "collapsed": true,
    "ExecuteTime": {
     "end_time": "2025-04-24T08:53:11.066813Z",
     "start_time": "2025-04-24T08:53:11.025606Z"
    }
   },
   "source": [
    "# ── 1. Imports ──────────────────────────────────────\n",
    "from langchain.vectorstores import Chroma\n",
    "from langchain.embeddings import HuggingFaceEmbeddings\n",
    "from langchain.schema import Document\n",
    "from IPython.display import Image, display\n",
    "import pandas as pd\n",
    "from tqdm import tqdm\n",
    "import shutil\n",
    "import os"
   ],
   "outputs": [],
   "execution_count": 13
  },
  {
   "metadata": {
    "ExecuteTime": {
     "end_time": "2025-04-24T08:53:12.472271Z",
     "start_time": "2025-04-24T08:53:12.465041Z"
    }
   },
   "cell_type": "code",
   "source": [
    "\n",
    "# ── 2. Clean and Setup ──────────────────────────────\n",
    "persist_dir = \"/tmp/chroma_store_test\"\n",
    "\n",
    "if os.path.exists(persist_dir):\n",
    "    print(\"🧹 Removing old vectorstore...\")\n",
    "    shutil.rmtree(persist_dir)\n"
   ],
   "id": "938d94f70614fdd0",
   "outputs": [],
   "execution_count": 14
  },
  {
   "metadata": {
    "ExecuteTime": {
     "end_time": "2025-04-24T08:53:22.167718Z",
     "start_time": "2025-04-24T08:53:15.005783Z"
    }
   },
   "cell_type": "code",
   "source": [
    "# ── 3. Load Dataset ─────────────────────────────────\n",
    "print(\"📦 Loading dataset...\")\n",
    "product = pd.read_csv(\"products_cleaned.csv\")\n",
    "product"
   ],
   "id": "fbf1d4242b692758",
   "outputs": [
    {
     "name": "stdout",
     "output_type": "stream",
     "text": [
      "📦 Loading dataset...\n"
     ]
    },
    {
     "data": {
      "text/plain": [
       "               asin                                              title  \\\n",
       "0        B014TMV5YE  Sion Softside Expandable Roller Luggage, Black...   \n",
       "1        B07GDLCQXV  Luggage Sets Expandable PC+ABS Durable Suitcas...   \n",
       "2        B07XSCCZYG  Platinum Elite Softside Expandable Checked Lug...   \n",
       "3        B08MVFKGJM  Freeform Hardside Expandable with Double Spinn...   \n",
       "4        B01DJLKZBA  Winfield 2 Hardside Expandable Luggage with Sp...   \n",
       "...             ...                                                ...   \n",
       "1426332  B00R3LIKCO  American Flag Patriotic USA Classic 5 Panel Me...   \n",
       "1426333  B098BQ7ZQ3  Men's Baseball Cap - H2O-DRI Line Up Curved Br...   \n",
       "1426334  B07X1MVNT1  [4 Pack] Adjustable Eyeglasses and Sunglasses ...   \n",
       "1426335  B08XLBG8V9                          Ax2002 Aviator Sunglasses   \n",
       "1426336  B07GH67QC8  in Hoc Signo Vinces Knights Templar Masonic Em...   \n",
       "\n",
       "                                                    imgUrl  \\\n",
       "0        https://m.media-amazon.com/images/I/815dLQKYIY...   \n",
       "1        https://m.media-amazon.com/images/I/81bQlm7vf6...   \n",
       "2        https://m.media-amazon.com/images/I/71EA35zvJB...   \n",
       "3        https://m.media-amazon.com/images/I/91k6NYLQyI...   \n",
       "4        https://m.media-amazon.com/images/I/61NJoaZcP9...   \n",
       "...                                                    ...   \n",
       "1426332  https://m.media-amazon.com/images/I/71PDJFz6AA...   \n",
       "1426333  https://m.media-amazon.com/images/I/812Tycexs4...   \n",
       "1426334  https://m.media-amazon.com/images/I/61vvYW1S9J...   \n",
       "1426335  https://m.media-amazon.com/images/I/51+yjD4F1x...   \n",
       "1426336  https://m.media-amazon.com/images/I/91Kt2KQf0E...   \n",
       "\n",
       "                                   productURL  stars  reviews   price  \\\n",
       "0        https://www.amazon.com/dp/B014TMV5YE    4.5        0  139.99   \n",
       "1        https://www.amazon.com/dp/B07GDLCQXV    4.5        0  169.99   \n",
       "2        https://www.amazon.com/dp/B07XSCCZYG    4.6        0  365.49   \n",
       "3        https://www.amazon.com/dp/B08MVFKGJM    4.6        0  291.59   \n",
       "4        https://www.amazon.com/dp/B01DJLKZBA    4.5        0  174.99   \n",
       "...                                       ...    ...      ...     ...   \n",
       "1426332  https://www.amazon.com/dp/B00R3LIKCO    4.2        0   14.95   \n",
       "1426333  https://www.amazon.com/dp/B098BQ7ZQ3    4.4        0   33.99   \n",
       "1426334  https://www.amazon.com/dp/B07X1MVNT1    3.6        0    8.54   \n",
       "1426335  https://www.amazon.com/dp/B08XLBG8V9    4.5        0   54.36   \n",
       "1426336  https://www.amazon.com/dp/B07GH67QC8    4.9        0   18.79   \n",
       "\n",
       "         listPrice  isBestSeller  boughtInLastMonth   id      category_name  \n",
       "0             0.00         False               2000  104          Suitcases  \n",
       "1           209.99         False               1000  104          Suitcases  \n",
       "2           429.99         False                300  104          Suitcases  \n",
       "3           354.37         False                400  104          Suitcases  \n",
       "4           309.99         False                400  104          Suitcases  \n",
       "...            ...           ...                ...  ...                ...  \n",
       "1426332       0.00         False                  0  112  Men's Accessories  \n",
       "1426333       0.00         False                  0  112  Men's Accessories  \n",
       "1426334       0.00         False                  0  112  Men's Accessories  \n",
       "1426335      57.39         False                  0  112  Men's Accessories  \n",
       "1426336       0.00         False                  0  112  Men's Accessories  \n",
       "\n",
       "[1426337 rows x 12 columns]"
      ],
      "text/html": [
       "<div>\n",
       "<style scoped>\n",
       "    .dataframe tbody tr th:only-of-type {\n",
       "        vertical-align: middle;\n",
       "    }\n",
       "\n",
       "    .dataframe tbody tr th {\n",
       "        vertical-align: top;\n",
       "    }\n",
       "\n",
       "    .dataframe thead th {\n",
       "        text-align: right;\n",
       "    }\n",
       "</style>\n",
       "<table border=\"1\" class=\"dataframe\">\n",
       "  <thead>\n",
       "    <tr style=\"text-align: right;\">\n",
       "      <th></th>\n",
       "      <th>asin</th>\n",
       "      <th>title</th>\n",
       "      <th>imgUrl</th>\n",
       "      <th>productURL</th>\n",
       "      <th>stars</th>\n",
       "      <th>reviews</th>\n",
       "      <th>price</th>\n",
       "      <th>listPrice</th>\n",
       "      <th>isBestSeller</th>\n",
       "      <th>boughtInLastMonth</th>\n",
       "      <th>id</th>\n",
       "      <th>category_name</th>\n",
       "    </tr>\n",
       "  </thead>\n",
       "  <tbody>\n",
       "    <tr>\n",
       "      <th>0</th>\n",
       "      <td>B014TMV5YE</td>\n",
       "      <td>Sion Softside Expandable Roller Luggage, Black...</td>\n",
       "      <td>https://m.media-amazon.com/images/I/815dLQKYIY...</td>\n",
       "      <td>https://www.amazon.com/dp/B014TMV5YE</td>\n",
       "      <td>4.5</td>\n",
       "      <td>0</td>\n",
       "      <td>139.99</td>\n",
       "      <td>0.00</td>\n",
       "      <td>False</td>\n",
       "      <td>2000</td>\n",
       "      <td>104</td>\n",
       "      <td>Suitcases</td>\n",
       "    </tr>\n",
       "    <tr>\n",
       "      <th>1</th>\n",
       "      <td>B07GDLCQXV</td>\n",
       "      <td>Luggage Sets Expandable PC+ABS Durable Suitcas...</td>\n",
       "      <td>https://m.media-amazon.com/images/I/81bQlm7vf6...</td>\n",
       "      <td>https://www.amazon.com/dp/B07GDLCQXV</td>\n",
       "      <td>4.5</td>\n",
       "      <td>0</td>\n",
       "      <td>169.99</td>\n",
       "      <td>209.99</td>\n",
       "      <td>False</td>\n",
       "      <td>1000</td>\n",
       "      <td>104</td>\n",
       "      <td>Suitcases</td>\n",
       "    </tr>\n",
       "    <tr>\n",
       "      <th>2</th>\n",
       "      <td>B07XSCCZYG</td>\n",
       "      <td>Platinum Elite Softside Expandable Checked Lug...</td>\n",
       "      <td>https://m.media-amazon.com/images/I/71EA35zvJB...</td>\n",
       "      <td>https://www.amazon.com/dp/B07XSCCZYG</td>\n",
       "      <td>4.6</td>\n",
       "      <td>0</td>\n",
       "      <td>365.49</td>\n",
       "      <td>429.99</td>\n",
       "      <td>False</td>\n",
       "      <td>300</td>\n",
       "      <td>104</td>\n",
       "      <td>Suitcases</td>\n",
       "    </tr>\n",
       "    <tr>\n",
       "      <th>3</th>\n",
       "      <td>B08MVFKGJM</td>\n",
       "      <td>Freeform Hardside Expandable with Double Spinn...</td>\n",
       "      <td>https://m.media-amazon.com/images/I/91k6NYLQyI...</td>\n",
       "      <td>https://www.amazon.com/dp/B08MVFKGJM</td>\n",
       "      <td>4.6</td>\n",
       "      <td>0</td>\n",
       "      <td>291.59</td>\n",
       "      <td>354.37</td>\n",
       "      <td>False</td>\n",
       "      <td>400</td>\n",
       "      <td>104</td>\n",
       "      <td>Suitcases</td>\n",
       "    </tr>\n",
       "    <tr>\n",
       "      <th>4</th>\n",
       "      <td>B01DJLKZBA</td>\n",
       "      <td>Winfield 2 Hardside Expandable Luggage with Sp...</td>\n",
       "      <td>https://m.media-amazon.com/images/I/61NJoaZcP9...</td>\n",
       "      <td>https://www.amazon.com/dp/B01DJLKZBA</td>\n",
       "      <td>4.5</td>\n",
       "      <td>0</td>\n",
       "      <td>174.99</td>\n",
       "      <td>309.99</td>\n",
       "      <td>False</td>\n",
       "      <td>400</td>\n",
       "      <td>104</td>\n",
       "      <td>Suitcases</td>\n",
       "    </tr>\n",
       "    <tr>\n",
       "      <th>...</th>\n",
       "      <td>...</td>\n",
       "      <td>...</td>\n",
       "      <td>...</td>\n",
       "      <td>...</td>\n",
       "      <td>...</td>\n",
       "      <td>...</td>\n",
       "      <td>...</td>\n",
       "      <td>...</td>\n",
       "      <td>...</td>\n",
       "      <td>...</td>\n",
       "      <td>...</td>\n",
       "      <td>...</td>\n",
       "    </tr>\n",
       "    <tr>\n",
       "      <th>1426332</th>\n",
       "      <td>B00R3LIKCO</td>\n",
       "      <td>American Flag Patriotic USA Classic 5 Panel Me...</td>\n",
       "      <td>https://m.media-amazon.com/images/I/71PDJFz6AA...</td>\n",
       "      <td>https://www.amazon.com/dp/B00R3LIKCO</td>\n",
       "      <td>4.2</td>\n",
       "      <td>0</td>\n",
       "      <td>14.95</td>\n",
       "      <td>0.00</td>\n",
       "      <td>False</td>\n",
       "      <td>0</td>\n",
       "      <td>112</td>\n",
       "      <td>Men's Accessories</td>\n",
       "    </tr>\n",
       "    <tr>\n",
       "      <th>1426333</th>\n",
       "      <td>B098BQ7ZQ3</td>\n",
       "      <td>Men's Baseball Cap - H2O-DRI Line Up Curved Br...</td>\n",
       "      <td>https://m.media-amazon.com/images/I/812Tycexs4...</td>\n",
       "      <td>https://www.amazon.com/dp/B098BQ7ZQ3</td>\n",
       "      <td>4.4</td>\n",
       "      <td>0</td>\n",
       "      <td>33.99</td>\n",
       "      <td>0.00</td>\n",
       "      <td>False</td>\n",
       "      <td>0</td>\n",
       "      <td>112</td>\n",
       "      <td>Men's Accessories</td>\n",
       "    </tr>\n",
       "    <tr>\n",
       "      <th>1426334</th>\n",
       "      <td>B07X1MVNT1</td>\n",
       "      <td>[4 Pack] Adjustable Eyeglasses and Sunglasses ...</td>\n",
       "      <td>https://m.media-amazon.com/images/I/61vvYW1S9J...</td>\n",
       "      <td>https://www.amazon.com/dp/B07X1MVNT1</td>\n",
       "      <td>3.6</td>\n",
       "      <td>0</td>\n",
       "      <td>8.54</td>\n",
       "      <td>0.00</td>\n",
       "      <td>False</td>\n",
       "      <td>0</td>\n",
       "      <td>112</td>\n",
       "      <td>Men's Accessories</td>\n",
       "    </tr>\n",
       "    <tr>\n",
       "      <th>1426335</th>\n",
       "      <td>B08XLBG8V9</td>\n",
       "      <td>Ax2002 Aviator Sunglasses</td>\n",
       "      <td>https://m.media-amazon.com/images/I/51+yjD4F1x...</td>\n",
       "      <td>https://www.amazon.com/dp/B08XLBG8V9</td>\n",
       "      <td>4.5</td>\n",
       "      <td>0</td>\n",
       "      <td>54.36</td>\n",
       "      <td>57.39</td>\n",
       "      <td>False</td>\n",
       "      <td>0</td>\n",
       "      <td>112</td>\n",
       "      <td>Men's Accessories</td>\n",
       "    </tr>\n",
       "    <tr>\n",
       "      <th>1426336</th>\n",
       "      <td>B07GH67QC8</td>\n",
       "      <td>in Hoc Signo Vinces Knights Templar Masonic Em...</td>\n",
       "      <td>https://m.media-amazon.com/images/I/91Kt2KQf0E...</td>\n",
       "      <td>https://www.amazon.com/dp/B07GH67QC8</td>\n",
       "      <td>4.9</td>\n",
       "      <td>0</td>\n",
       "      <td>18.79</td>\n",
       "      <td>0.00</td>\n",
       "      <td>False</td>\n",
       "      <td>0</td>\n",
       "      <td>112</td>\n",
       "      <td>Men's Accessories</td>\n",
       "    </tr>\n",
       "  </tbody>\n",
       "</table>\n",
       "<p>1426337 rows × 12 columns</p>\n",
       "</div>"
      ]
     },
     "execution_count": 15,
     "metadata": {},
     "output_type": "execute_result"
    }
   ],
   "execution_count": 15
  },
  {
   "metadata": {
    "ExecuteTime": {
     "end_time": "2025-04-24T08:53:27.904958Z",
     "start_time": "2025-04-24T08:53:27.898716Z"
    }
   },
   "cell_type": "code",
   "source": [
    "\n",
    "# Ensure 'image_url' column exists\n",
    "if \"imgUrl\" not in product.columns:\n",
    "    raise ValueError(\"❌ Your dataset is missing the 'image_url' column.\")\n"
   ],
   "id": "d76650213edf527b",
   "outputs": [],
   "execution_count": 16
  },
  {
   "metadata": {
    "ExecuteTime": {
     "end_time": "2025-04-24T08:53:40.026342Z",
     "start_time": "2025-04-24T08:53:37.982673Z"
    }
   },
   "cell_type": "code",
   "source": [
    "# ── 4. Combine Text for Embedding ───────────────────\n",
    "product[\"text\"] = (\n",
    "    product[\"title\"].fillna(\"\") + \" \" +\n",
    "    product[\"category_name\"].fillna(\"\") + \" $\" +\n",
    "    product[\"price\"].fillna(\"\").astype(str) + \" stars \" +\n",
    "    product[\"stars\"].fillna(\"\").astype(str)\n",
    ")\n",
    "\n",
    "product.dropna(subset=[\"text\"], inplace=True)\n",
    "product = product[product[\"text\"].str.strip().astype(bool)]\n"
   ],
   "id": "d3c2c40bc2b74932",
   "outputs": [],
   "execution_count": 17
  },
  {
   "metadata": {
    "ExecuteTime": {
     "end_time": "2025-04-24T08:54:21.556039Z",
     "start_time": "2025-04-24T08:53:43.946138Z"
    }
   },
   "cell_type": "code",
   "source": [
    "# ── 5. Create LangChain Documents ───────────────────\n",
    "print(\"📄 Creating documents...\")\n",
    "documents = [\n",
    "    Document(\n",
    "        page_content=row[\"text\"],\n",
    "        metadata={\n",
    "            \"id\": int(row[\"id\"]),\n",
    "            \"title\": row[\"title\"],\n",
    "            \"imgUrl\": row.get(\"imgUrl\", \"\")\n",
    "        }\n",
    "    )\n",
    "    for _, row in tqdm(product.iterrows(), total=len(product))\n",
    "]\n"
   ],
   "id": "f2b0afaeded6d71c",
   "outputs": [
    {
     "name": "stdout",
     "output_type": "stream",
     "text": [
      "📄 Creating documents...\n"
     ]
    },
    {
     "name": "stderr",
     "output_type": "stream",
     "text": [
      "100%|██████████| 1426337/1426337 [00:36<00:00, 39023.92it/s]\n"
     ]
    }
   ],
   "execution_count": 18
  },
  {
   "metadata": {
    "ExecuteTime": {
     "end_time": "2025-04-24T08:54:33.767702Z",
     "start_time": "2025-04-24T08:54:27.531239Z"
    }
   },
   "cell_type": "code",
   "source": [
    "# ── 6. Load Embedding Model ─────────────────────────\n",
    "print(\"🧠 Loading embedding model...\")\n",
    "embedding = HuggingFaceEmbeddings(model_name=\"sentence-transformers/all-MiniLM-L6-v2\")\n"
   ],
   "id": "f55e3abcd1582a",
   "outputs": [
    {
     "name": "stdout",
     "output_type": "stream",
     "text": [
      "🧠 Loading embedding model...\n"
     ]
    }
   ],
   "execution_count": 19
  },
  {
   "metadata": {
    "ExecuteTime": {
     "end_time": "2025-04-24T10:06:28.164448Z",
     "start_time": "2025-04-24T08:54:40.162163Z"
    }
   },
   "cell_type": "code",
   "source": [
    "# ── 7. Create Chroma Vectorstore ────────────────────\n",
    "import shutil\n",
    "\n",
    "if os.path.exists(persist_dir):\n",
    "    print(\"🧹 Removing old vectorstore due to permission error...\")\n",
    "    shutil.rmtree(persist_dir)\n",
    "\n",
    "os.makedirs(persist_dir, exist_ok=True)\n",
    "\n",
    "print(\"💾 Saving to vectorstore...\")\n",
    "vectorstore = Chroma.from_documents(\n",
    "    documents=documents,\n",
    "    embedding=embedding,\n",
    "    persist_directory=persist_dir\n",
    ")\n",
    "vectorstore.persist()\n",
    "print(\"✅ Vectorstore created successfully.\")\n"
   ],
   "id": "4be556e77138c4b3",
   "outputs": [
    {
     "name": "stdout",
     "output_type": "stream",
     "text": [
      "💾 Saving to vectorstore...\n",
      "✅ Vectorstore created successfully.\n"
     ]
    },
    {
     "name": "stderr",
     "output_type": "stream",
     "text": [
      "/var/folders/32/_dxyx4ls74q6tdn_wtgm2s480000gn/T/ipykernel_17294/3711669321.py:16: LangChainDeprecationWarning: Since Chroma 0.4.x the manual persistence method is no longer supported as docs are automatically persisted.\n",
      "  vectorstore.persist()\n"
     ]
    }
   ],
   "execution_count": 20
  },
  {
   "metadata": {
    "ExecuteTime": {
     "end_time": "2025-04-24T10:07:30.041886Z",
     "start_time": "2025-04-24T10:07:29.983707Z"
    }
   },
   "cell_type": "code",
   "source": [
    "# ── 8. Search & Display Results ─────────────────────\n",
    "def search_and_display(query: str, k: int = 5):\n",
    "    print(f\"\\n🔍 Searching for: \\\"{query}\\\"\\n\")\n",
    "    results = vectorstore.similarity_search(query, k=k)\n",
    "\n",
    "    for i, res in enumerate(results):\n",
    "        print(f\"Result {i+1}\")\n",
    "        print(\"📌 Title:\", res.metadata.get(\"title\", \"N/A\"))\n",
    "        print(\"📝 Text:\", res.page_content)\n",
    "        image_url = res.metadata.get(\"imgUrl\")\n",
    "        if image_url:\n",
    "            try:\n",
    "                display(Image(url=image_url, width=250))\n",
    "            except:\n",
    "                print(\"⚠️ Couldn't load image.\")\n",
    "        else:\n",
    "            print(\"❌ No image URL provided.\")\n",
    "        print(\"-\" * 50)\n"
   ],
   "id": "afdf1653fca04913",
   "outputs": [],
   "execution_count": 21
  },
  {
   "metadata": {
    "ExecuteTime": {
     "end_time": "2025-04-24T10:07:37.540073Z",
     "start_time": "2025-04-24T10:07:33.969899Z"
    }
   },
   "cell_type": "code",
   "source": [
    "# ── 9. Example Test Query ───────────────────────────\n",
    "search_and_display(\"wireless bluetooth headphones with noise cancellation\")"
   ],
   "id": "53c59e53655a5f2b",
   "outputs": [
    {
     "name": "stdout",
     "output_type": "stream",
     "text": [
      "\n",
      "🔍 Searching for: \"wireless bluetooth headphones with noise cancellation\"\n",
      "\n",
      "Result 1\n",
      "📌 Title: Wireless Headphones Over Ear for Active Noise Cancelling Headphones Bluetooth Headset with Microphone Dance Music DJ Headphones Designed for Game Calls and Music, Foldable to Save Space etc (Black)\n",
      "📝 Text: Wireless Headphones Over Ear for Active Noise Cancelling Headphones Bluetooth Headset with Microphone Dance Music DJ Headphones Designed for Game Calls and Music, Foldable to Save Space etc (Black) Headphones & Earbuds $49.99 stars 0.0\n"
     ]
    },
    {
     "data": {
      "text/html": [
       "<img src=\"https://m.media-amazon.com/images/I/716cbC0393L._AC_UL320_.jpg\" width=\"250\"/>"
      ],
      "text/plain": [
       "<IPython.core.display.Image object>"
      ]
     },
     "metadata": {},
     "output_type": "display_data"
    },
    {
     "name": "stdout",
     "output_type": "stream",
     "text": [
      "--------------------------------------------------\n",
      "Result 2\n",
      "📌 Title: Bluetooth Headset Noise Canceling for Cellphones Wireless Single Ear Bluetooth Earpiece with Microphone for Trucker（White）\n",
      "📝 Text: Bluetooth Headset Noise Canceling for Cellphones Wireless Single Ear Bluetooth Earpiece with Microphone for Trucker（White） Wearable Technology $10.99 stars 2.8\n"
     ]
    },
    {
     "data": {
      "text/html": [
       "<img src=\"https://m.media-amazon.com/images/I/51ARSaKG-qL._AC_UL320_.jpg\" width=\"250\"/>"
      ],
      "text/plain": [
       "<IPython.core.display.Image object>"
      ]
     },
     "metadata": {},
     "output_type": "display_data"
    },
    {
     "name": "stdout",
     "output_type": "stream",
     "text": [
      "--------------------------------------------------\n",
      "Result 3\n",
      "📌 Title: AmazonCommercial Wireless Noise Cancelling Bluetooth Headphones\n",
      "📝 Text: AmazonCommercial Wireless Noise Cancelling Bluetooth Headphones Headphones & Earbuds $143.15 stars 3.9\n"
     ]
    },
    {
     "data": {
      "text/html": [
       "<img src=\"https://m.media-amazon.com/images/I/61Ry9-xUMCL._AC_UL320_.jpg\" width=\"250\"/>"
      ],
      "text/plain": [
       "<IPython.core.display.Image object>"
      ]
     },
     "metadata": {},
     "output_type": "display_data"
    },
    {
     "name": "stdout",
     "output_type": "stream",
     "text": [
      "--------------------------------------------------\n",
      "Result 4\n",
      "📌 Title: Bluetooth Headset Noise Canceling for Cellphones Wireless Single Ear Bluetooth Earpiece with Microphone for Trucker (Dark Black)\n",
      "📝 Text: Bluetooth Headset Noise Canceling for Cellphones Wireless Single Ear Bluetooth Earpiece with Microphone for Trucker (Dark Black) Wearable Technology $9.99 stars 3.7\n"
     ]
    },
    {
     "data": {
      "text/html": [
       "<img src=\"https://m.media-amazon.com/images/I/61JxrXPn8mL._AC_UL320_.jpg\" width=\"250\"/>"
      ],
      "text/plain": [
       "<IPython.core.display.Image object>"
      ]
     },
     "metadata": {},
     "output_type": "display_data"
    },
    {
     "name": "stdout",
     "output_type": "stream",
     "text": [
      "--------------------------------------------------\n",
      "Result 5\n",
      "📌 Title: Bluetooth Active Noise Cancellation Headphone with Build in Microphone\n",
      "📝 Text: Bluetooth Active Noise Cancellation Headphone with Build in Microphone Headphones & Earbuds $49.95 stars 4.0\n"
     ]
    },
    {
     "data": {
      "text/html": [
       "<img src=\"https://m.media-amazon.com/images/I/61d6xh-99IS._AC_UL320_.jpg\" width=\"250\"/>"
      ],
      "text/plain": [
       "<IPython.core.display.Image object>"
      ]
     },
     "metadata": {},
     "output_type": "display_data"
    },
    {
     "name": "stdout",
     "output_type": "stream",
     "text": [
      "--------------------------------------------------\n"
     ]
    }
   ],
   "execution_count": 22
  },
  {
   "metadata": {
    "ExecuteTime": {
     "end_time": "2025-04-24T10:07:45.839756Z",
     "start_time": "2025-04-24T10:07:45.324827Z"
    }
   },
   "cell_type": "code",
   "source": "search_and_display(\"mens formal shoes\")",
   "id": "52a541cbd4ca2a87",
   "outputs": [
    {
     "name": "stdout",
     "output_type": "stream",
     "text": [
      "\n",
      "🔍 Searching for: \"mens formal shoes\"\n",
      "\n",
      "Result 1\n",
      "📌 Title: Mens Dress Shoes Oxford Style Formal Classic Lace Up Business Casual Uniform Modern Work Soft Wedding Shoes Black Brown US6-15\n",
      "📝 Text: Mens Dress Shoes Oxford Style Formal Classic Lace Up Business Casual Uniform Modern Work Soft Wedding Shoes Black Brown US6-15 Men's Shoes $29.99 stars 4.1\n"
     ]
    },
    {
     "data": {
      "text/html": [
       "<img src=\"https://m.media-amazon.com/images/I/41aVQ5+lqyL._AC_UL320_.jpg\" width=\"250\"/>"
      ],
      "text/plain": [
       "<IPython.core.display.Image object>"
      ]
     },
     "metadata": {},
     "output_type": "display_data"
    },
    {
     "name": "stdout",
     "output_type": "stream",
     "text": [
      "--------------------------------------------------\n",
      "Result 2\n",
      "📌 Title: Men's Dress Shoes Comfortable Breathable Casual Flat Plain Sneakers Classic Modern Formal Oxfords Applicable to Business,Work,Party,Wedding,Daily Walk\n",
      "📝 Text: Men's Dress Shoes Comfortable Breathable Casual Flat Plain Sneakers Classic Modern Formal Oxfords Applicable to Business,Work,Party,Wedding,Daily Walk Men's Shoes $49.99 stars 4.2\n"
     ]
    },
    {
     "data": {
      "text/html": [
       "<img src=\"https://m.media-amazon.com/images/I/71B4kdJQ13L._AC_UL320_.jpg\" width=\"250\"/>"
      ],
      "text/plain": [
       "<IPython.core.display.Image object>"
      ]
     },
     "metadata": {},
     "output_type": "display_data"
    },
    {
     "name": "stdout",
     "output_type": "stream",
     "text": [
      "--------------------------------------------------\n",
      "Result 3\n",
      "📌 Title: Men's Casual Sneakers Dress Shoes - Comfort Dress Sneakers Mesh Knit Lightweight Breathable Formal Oxford Business Shoes\n",
      "📝 Text: Men's Casual Sneakers Dress Shoes - Comfort Dress Sneakers Mesh Knit Lightweight Breathable Formal Oxford Business Shoes Men's Shoes $47.99 stars 4.2\n"
     ]
    },
    {
     "data": {
      "text/html": [
       "<img src=\"https://m.media-amazon.com/images/I/71Tyt5OoGzL._AC_UL320_.jpg\" width=\"250\"/>"
      ],
      "text/plain": [
       "<IPython.core.display.Image object>"
      ]
     },
     "metadata": {},
     "output_type": "display_data"
    },
    {
     "name": "stdout",
     "output_type": "stream",
     "text": [
      "--------------------------------------------------\n",
      "Result 4\n",
      "📌 Title: Mens Sneakers. Fashion Sneakers. Lace-Up Or Slip-On Mens Casual Shoes. Comfortable Leather Shoes.\n",
      "📝 Text: Mens Sneakers. Fashion Sneakers. Lace-Up Or Slip-On Mens Casual Shoes. Comfortable Leather Shoes. Men's Shoes $89.95 stars 4.3\n"
     ]
    },
    {
     "data": {
      "text/html": [
       "<img src=\"https://m.media-amazon.com/images/I/71V0SAZ4CKL._AC_UL320_.jpg\" width=\"250\"/>"
      ],
      "text/plain": [
       "<IPython.core.display.Image object>"
      ]
     },
     "metadata": {},
     "output_type": "display_data"
    },
    {
     "name": "stdout",
     "output_type": "stream",
     "text": [
      "--------------------------------------------------\n",
      "Result 5\n",
      "📌 Title: Men's Oxfords Formal Shoes Men Business Casual Shoes Lace-up Fashion Dress Shoes for Men\n",
      "📝 Text: Men's Oxfords Formal Shoes Men Business Casual Shoes Lace-up Fashion Dress Shoes for Men Men's Shoes $45.99 stars 4.3\n"
     ]
    },
    {
     "data": {
      "text/html": [
       "<img src=\"https://m.media-amazon.com/images/I/61ZiVJ+8XaL._AC_UL320_.jpg\" width=\"250\"/>"
      ],
      "text/plain": [
       "<IPython.core.display.Image object>"
      ]
     },
     "metadata": {},
     "output_type": "display_data"
    },
    {
     "name": "stdout",
     "output_type": "stream",
     "text": [
      "--------------------------------------------------\n"
     ]
    }
   ],
   "execution_count": 23
  },
  {
   "metadata": {
    "ExecuteTime": {
     "end_time": "2025-04-24T10:07:59.731119Z",
     "start_time": "2025-04-24T10:07:58.903762Z"
    }
   },
   "cell_type": "code",
   "source": "search_and_display(\"ladies shoes\")",
   "id": "616a1ce2f79a5b71",
   "outputs": [
    {
     "name": "stdout",
     "output_type": "stream",
     "text": [
      "\n",
      "🔍 Searching for: \"ladies shoes\"\n",
      "\n",
      "Result 1\n",
      "📌 Title: Women's Blade Running Shoes Ladies Fashion Sneakers Slip on Shoes Tennis Walking Athletic Shoes\n",
      "📝 Text: Women's Blade Running Shoes Ladies Fashion Sneakers Slip on Shoes Tennis Walking Athletic Shoes Women's Shoes $37.99 stars 4.4\n"
     ]
    },
    {
     "data": {
      "text/html": [
       "<img src=\"https://m.media-amazon.com/images/I/71DU+6FRA5L._AC_UL320_.jpg\" width=\"250\"/>"
      ],
      "text/plain": [
       "<IPython.core.display.Image object>"
      ]
     },
     "metadata": {},
     "output_type": "display_data"
    },
    {
     "name": "stdout",
     "output_type": "stream",
     "text": [
      "--------------------------------------------------\n",
      "Result 2\n",
      "📌 Title: Womens Fashion Tennis Sneakers Non-Slip Lace Up Walking Shoes Mens Comfort Running Shoes Ladies Skate Shoes Black with Skull Painted 7\n",
      "📝 Text: Womens Fashion Tennis Sneakers Non-Slip Lace Up Walking Shoes Mens Comfort Running Shoes Ladies Skate Shoes Black with Skull Painted 7 Men's Shoes $36.99 stars 5.0\n"
     ]
    },
    {
     "data": {
      "text/html": [
       "<img src=\"https://m.media-amazon.com/images/I/71edkZWTl1L._AC_UL320_.jpg\" width=\"250\"/>"
      ],
      "text/plain": [
       "<IPython.core.display.Image object>"
      ]
     },
     "metadata": {},
     "output_type": "display_data"
    },
    {
     "name": "stdout",
     "output_type": "stream",
     "text": [
      "--------------------------------------------------\n",
      "Result 3\n",
      "📌 Title: Women Fashion Sneakers Floral Print Lace-up Casual Walking Shoes\n",
      "📝 Text: Women Fashion Sneakers Floral Print Lace-up Casual Walking Shoes Women's Shoes $44.99 stars 4.4\n"
     ]
    },
    {
     "data": {
      "text/html": [
       "<img src=\"https://m.media-amazon.com/images/I/61PksnEcYtL._AC_UL320_.jpg\" width=\"250\"/>"
      ],
      "text/plain": [
       "<IPython.core.display.Image object>"
      ]
     },
     "metadata": {},
     "output_type": "display_data"
    },
    {
     "name": "stdout",
     "output_type": "stream",
     "text": [
      "--------------------------------------------------\n",
      "Result 4\n",
      "📌 Title: Womens Slip On Shoes Fashion Sneakers Comfortable Walking Flats Casual Shoes\n",
      "📝 Text: Womens Slip On Shoes Fashion Sneakers Comfortable Walking Flats Casual Shoes Women's Shoes $32.99 stars 4.3\n"
     ]
    },
    {
     "data": {
      "text/html": [
       "<img src=\"https://m.media-amazon.com/images/I/71eUnt6u3MS._AC_UL320_.jpg\" width=\"250\"/>"
      ],
      "text/plain": [
       "<IPython.core.display.Image object>"
      ]
     },
     "metadata": {},
     "output_type": "display_data"
    },
    {
     "name": "stdout",
     "output_type": "stream",
     "text": [
      "--------------------------------------------------\n",
      "Result 5\n",
      "📌 Title: Women’s Fashion Sneakers Slip On Shoes Women Sneakers Canvas Shoes Womens Tennis Comfortable Walking Flats for Womens Casual Shoes\n",
      "📝 Text: Women’s Fashion Sneakers Slip On Shoes Women Sneakers Canvas Shoes Womens Tennis Comfortable Walking Flats for Womens Casual Shoes Women's Shoes $39.9 stars 4.3\n"
     ]
    },
    {
     "data": {
      "text/html": [
       "<img src=\"https://m.media-amazon.com/images/I/71Ee3Gkes+L._AC_UL320_.jpg\" width=\"250\"/>"
      ],
      "text/plain": [
       "<IPython.core.display.Image object>"
      ]
     },
     "metadata": {},
     "output_type": "display_data"
    },
    {
     "name": "stdout",
     "output_type": "stream",
     "text": [
      "--------------------------------------------------\n"
     ]
    }
   ],
   "execution_count": 24
  },
  {
   "metadata": {
    "ExecuteTime": {
     "end_time": "2025-04-24T10:08:13.454692Z",
     "start_time": "2025-04-24T10:08:13.079072Z"
    }
   },
   "cell_type": "code",
   "source": "search_and_display(\"mens wears fashionable\")",
   "id": "3fdd6617cda0ae4c",
   "outputs": [
    {
     "name": "stdout",
     "output_type": "stream",
     "text": [
      "\n",
      "🔍 Searching for: \"mens wears fashionable\"\n",
      "\n",
      "Result 1\n",
      "📌 Title: mens Men Modern\n",
      "📝 Text: mens Men Modern Men's Clothing $169.0 stars 4.1\n"
     ]
    },
    {
     "data": {
      "text/html": [
       "<img src=\"https://m.media-amazon.com/images/I/519OTU1vOYL._AC_UL320_.jpg\" width=\"250\"/>"
      ],
      "text/plain": [
       "<IPython.core.display.Image object>"
      ]
     },
     "metadata": {},
     "output_type": "display_data"
    },
    {
     "name": "stdout",
     "output_type": "stream",
     "text": [
      "--------------------------------------------------\n",
      "Result 2\n",
      "📌 Title: Brand Men's COTTON Dress Pants PURPLE INDIGO Flat Front Mens Trousers\n",
      "📝 Text: Brand Men's COTTON Dress Pants PURPLE INDIGO Flat Front Mens Trousers Men's Clothing $49.3 stars 4.3\n"
     ]
    },
    {
     "data": {
      "text/html": [
       "<img src=\"https://m.media-amazon.com/images/I/61NzOFh5mCL._AC_UL320_.jpg\" width=\"250\"/>"
      ],
      "text/plain": [
       "<IPython.core.display.Image object>"
      ]
     },
     "metadata": {},
     "output_type": "display_data"
    },
    {
     "name": "stdout",
     "output_type": "stream",
     "text": [
      "--------------------------------------------------\n",
      "Result 3\n",
      "📌 Title: mens Stretch Modern-fit Flat-front dress pants, Black, 34W x 32L US\n",
      "📝 Text: mens Stretch Modern-fit Flat-front dress pants, Black, 34W x 32L US Men's Clothing $46.0 stars 4.1\n"
     ]
    },
    {
     "data": {
      "text/html": [
       "<img src=\"https://m.media-amazon.com/images/I/51Aiv6j5ZnL._AC_UL320_.jpg\" width=\"250\"/>"
      ],
      "text/plain": [
       "<IPython.core.display.Image object>"
      ]
     },
     "metadata": {},
     "output_type": "display_data"
    },
    {
     "name": "stdout",
     "output_type": "stream",
     "text": [
      "--------------------------------------------------\n",
      "Result 4\n",
      "📌 Title: mens Shapewear Form Tank\n",
      "📝 Text: mens Shapewear Form Tank Men's Clothing $31.5 stars 4.3\n"
     ]
    },
    {
     "data": {
      "text/html": [
       "<img src=\"https://m.media-amazon.com/images/I/61b-jIhqLJL._AC_UL320_.jpg\" width=\"250\"/>"
      ],
      "text/plain": [
       "<IPython.core.display.Image object>"
      ]
     },
     "metadata": {},
     "output_type": "display_data"
    },
    {
     "name": "stdout",
     "output_type": "stream",
     "text": [
      "--------------------------------------------------\n",
      "Result 5\n",
      "📌 Title: Mens Stretch Skinny Flat-Front Fashion Style Comfy Solid Casual Slim Fit Business Dress Chinos Pants\n",
      "📝 Text: Mens Stretch Skinny Flat-Front Fashion Style Comfy Solid Casual Slim Fit Business Dress Chinos Pants Men's Clothing $27.99 stars 4.3\n"
     ]
    },
    {
     "data": {
      "text/html": [
       "<img src=\"https://m.media-amazon.com/images/I/714TlNKooZL._AC_UL320_.jpg\" width=\"250\"/>"
      ],
      "text/plain": [
       "<IPython.core.display.Image object>"
      ]
     },
     "metadata": {},
     "output_type": "display_data"
    },
    {
     "name": "stdout",
     "output_type": "stream",
     "text": [
      "--------------------------------------------------\n"
     ]
    }
   ],
   "execution_count": 25
  },
  {
   "metadata": {},
   "cell_type": "code",
   "outputs": [],
   "execution_count": null,
   "source": "",
   "id": "3fe2637965e3c98a"
  }
 ],
 "metadata": {
  "kernelspec": {
   "display_name": "Python 3",
   "language": "python",
   "name": "python3"
  },
  "language_info": {
   "codemirror_mode": {
    "name": "ipython",
    "version": 2
   },
   "file_extension": ".py",
   "mimetype": "text/x-python",
   "name": "python",
   "nbconvert_exporter": "python",
   "pygments_lexer": "ipython2",
   "version": "2.7.6"
  }
 },
 "nbformat": 4,
 "nbformat_minor": 5
}
